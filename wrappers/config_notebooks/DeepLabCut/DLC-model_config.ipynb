{
 "cells": [
  {
   "cell_type": "markdown",
   "metadata": {},
   "source": [
    "# DeepLabCut HEAD DATASET"
   ]
  },
  {
   "cell_type": "markdown",
   "metadata": {},
   "source": [
    "## Imports:"
   ]
  },
  {
   "cell_type": "code",
   "execution_count": 1,
   "metadata": {},
   "outputs": [
    {
     "name": "stdout",
     "output_type": "stream",
     "text": [
      "Loading DLC 3.0.0rc6...\n"
     ]
    },
    {
     "name": "stdout",
     "output_type": "stream",
     "text": [
      "DLC loaded in light mode; you cannot use any GUI (labeling, relabeling and standalone GUI)\n"
     ]
    }
   ],
   "source": [
    "import deeplabcut as dlc\n",
    "from wrapper_dlc import DeepLabCutWrapper\n",
    "import os\n"
   ]
  },
  {
   "cell_type": "markdown",
   "metadata": {},
   "source": [
    "## Wrapper instance:"
   ]
  },
  {
   "cell_type": "code",
   "execution_count": 2,
   "metadata": {},
   "outputs": [],
   "source": [
    "dlc_wrapper = DeepLabCutWrapper(\n",
    "    output_dir=\"/Users/marcusschou/Desktop/SDU/data_science/kurser_4/Speciale_Data_Science/DLC/DLC - projects/\"\n",
    ")"
   ]
  },
  {
   "cell_type": "markdown",
   "metadata": {},
   "source": [
    "## Config Top-down:"
   ]
  },
  {
   "cell_type": "markdown",
   "metadata": {},
   "source": [
    "### Creating DLC project from .h5 files:"
   ]
  },
  {
   "cell_type": "code",
   "execution_count": 3,
   "metadata": {},
   "outputs": [
    {
     "name": "stdout",
     "output_type": "stream",
     "text": [
      "Created \"/Users/marcusschou/Desktop/SDU/data_science/kurser_4/Speciale_Data_Science/DLC/DLC - projects/head_annotation_data_nat_updated_v2_top_down_resnet-run1-2025-04-08/videos\"\n",
      "Created \"/Users/marcusschou/Desktop/SDU/data_science/kurser_4/Speciale_Data_Science/DLC/DLC - projects/head_annotation_data_nat_updated_v2_top_down_resnet-run1-2025-04-08/labeled-data\"\n",
      "Created \"/Users/marcusschou/Desktop/SDU/data_science/kurser_4/Speciale_Data_Science/DLC/DLC - projects/head_annotation_data_nat_updated_v2_top_down_resnet-run1-2025-04-08/training-datasets\"\n",
      "Created \"/Users/marcusschou/Desktop/SDU/data_science/kurser_4/Speciale_Data_Science/DLC/DLC - projects/head_annotation_data_nat_updated_v2_top_down_resnet-run1-2025-04-08/dlc-models\"\n",
      "Attempting to create a symbolic link of the video ...\n",
      "Created the symlink of /Users/marcusschou/Desktop/SDU/data_science/kurser_4/Speciale_Data_Science/data/videos/head_annotation_data_nat_updated_v2.mp4 to /Users/marcusschou/Desktop/SDU/data_science/kurser_4/Speciale_Data_Science/DLC/DLC - projects/head_annotation_data_nat_updated_v2_top_down_resnet-run1-2025-04-08/videos/head_annotation_data_nat_updated_v2.mp4\n",
      "/Users/marcusschou/Desktop/SDU/data_science/kurser_4/Speciale_Data_Science/DLC/DLC - projects/head_annotation_data_nat_updated_v2_top_down_resnet-run1-2025-04-08/videos/head_annotation_data_nat_updated_v2.mp4\n",
      "Generated \"/Users/marcusschou/Desktop/SDU/data_science/kurser_4/Speciale_Data_Science/DLC/DLC - projects/head_annotation_data_nat_updated_v2_top_down_resnet-run1-2025-04-08/config.yaml\"\n",
      "\n",
      "A new project with name head_annotation_data_nat_updated_v2_top_down_resnet-run1-2025-04-08 is created at /Users/marcusschou/Desktop/SDU/data_science/kurser_4/Speciale_Data_Science/DLC/DLC - projects and a configurable file (config.yaml) is stored there. Change the parameters in this file to adapt to your project's needs.\n",
      " Once you have changed the configuration file, use the function 'extract_frames' to select frames for labeling.\n",
      ". [OPTIONAL] Use the function 'add_new_videos' to add new videos to your project (at any stage).\n",
      "##################################################\n",
      "Project dir: /Users/marcusschou/Desktop/SDU/data_science/kurser_4/Speciale_Data_Science/DLC/DLC - projects/head_annotation_data_nat_updated_v2_top_down_resnet-run1-2025-04-08\n",
      "Config filepath: /Users/marcusschou/Desktop/SDU/data_science/kurser_4/Speciale_Data_Science/DLC/DLC - projects/head_annotation_data_nat_updated_v2_top_down_resnet-run1-2025-04-08/config.yaml\n",
      "labeled-data dir: /Users/marcusschou/Desktop/SDU/data_science/kurser_4/Speciale_Data_Science/DLC/DLC - projects/head_annotation_data_nat_updated_v2_top_down_resnet-run1-2025-04-08/labeled-data/head_annotation_data_nat_updated_v2\n",
      "##################################################\n",
      "Total frames: 1566\n",
      "Frames marked for removal: 354\n",
      "Frames kept: 1212\n",
      "New Annotations shape: (1212, 20, 2)\n",
      "New Images shape: (1212, 1024, 1024, 1)\n",
      "Writing frames to DLC project\n"
     ]
    },
    {
     "name": "stderr",
     "output_type": "stream",
     "text": [
      "1212it [00:08, 137.35it/s]\n"
     ]
    },
    {
     "name": "stdout",
     "output_type": "stream",
     "text": [
      "Adding the skeleton to the config.yaml file\n"
     ]
    },
    {
     "name": "stderr",
     "output_type": "stream",
     "text": [
      "20it [00:00, 11383.64it/s]\n",
      "/opt/anaconda3/envs/DEEPLABCUT/lib/python3.10/site-packages/deeplabcut/utils/auxiliaryfunctions.py:294: UserWarning: Some edits could not be written. The configuration file will be left unchanged.\n",
      "  warnings.warn(\n"
     ]
    },
    {
     "name": "stdout",
     "output_type": "stream",
     "text": [
      "Creating the labeled-data.csv for the DLC project\n"
     ]
    },
    {
     "name": "stderr",
     "output_type": "stream",
     "text": [
      "1212it [00:00, 34142.63it/s]\n"
     ]
    },
    {
     "name": "stdout",
     "output_type": "stream",
     "text": [
      "DLC project is ready at /Users/marcusschou/Desktop/SDU/data_science/kurser_4/Speciale_Data_Science/DLC/DLC - projects/\n"
     ]
    }
   ],
   "source": [
    "PROJECT_NAME = \"head_annotation_data_nat_updated_v2_top_down_resnet\"\n",
    "EXPERIMENTER = \"run1\"\n",
    "\n",
    "dlc_wrapper.h5_to_dlc_project(\n",
    "    h5_file_path=\"/Users/marcusschou/Desktop/SDU/data_science/kurser_4/Speciale_Data_Science/data/h5_files/head_annotation_data_nat_updated_v2.h5\",\n",
    "    skeleton_csv_path=\"/Users/marcusschou/Desktop/SDU/data_science/kurser_4/Speciale_Data_Science/data/skeletons/natskeleton_noposs.csv\",\n",
    "    project_name=PROJECT_NAME,\n",
    "    experimenter=EXPERIMENTER,\n",
    "    video_paths=[\n",
    "        \"/Users/marcusschou/Desktop/SDU/data_science/kurser_4/Speciale_Data_Science/data/videos/head_annotation_data_nat_updated_v2.mp4\" \n",
    "    ]\n",
    ")"
   ]
  },
  {
   "cell_type": "markdown",
   "metadata": {},
   "source": [
    "### Getting the train and test indicies:"
   ]
  },
  {
   "cell_type": "code",
   "execution_count": 4,
   "metadata": {},
   "outputs": [
    {
     "name": "stdout",
     "output_type": "stream",
     "text": [
      "969\n",
      "243\n",
      "[821, 705, 1101, 877, 895, 913, 1210, 152, 1001, 1156, 509, 111, 226, 1008, 851, 103, 421, 419, 967, 624, 586, 1111, 919, 672, 119, 53, 151, 403, 1200, 207, 1145, 658, 1107, 232, 8, 159, 36, 452, 651, 253, 303, 896, 1186, 880, 571, 1011, 623, 345, 1041, 1036, 262, 610, 297, 989, 414, 150, 472, 640, 1201, 1140, 550, 928, 488, 1091, 146, 402, 954, 1135, 659, 463, 186, 608, 143, 751, 981, 197, 883, 279, 293, 1099, 400, 122, 202, 835, 246, 1150, 384, 854, 219, 641, 1, 112, 698, 951, 1089, 441, 663, 1106, 317, 648, 709, 972, 627, 632, 1182, 1117, 795, 645, 1012, 556, 681, 577, 524, 1059, 540, 748, 1120, 484, 95, 1020, 563, 742, 863, 891, 1038, 206, 392, 794, 870, 397, 766, 1110, 1028, 642, 612, 960, 725, 683, 98, 804, 406, 502, 1071, 1056, 929, 779, 200, 134, 1051, 40, 1017, 230, 378, 288, 418, 391, 592, 1086, 647, 520, 64, 14, 1064, 492, 379, 187, 763, 216, 791, 1076, 878, 337, 719, 295, 1016, 455, 815, 269, 995, 201, 161, 729, 401, 702, 1129, 565, 1021, 1025, 1104, 205, 34, 775, 508, 1195, 91, 897, 564, 776, 241, 13, 315, 600, 387, 166, 840, 20, 646, 1154, 831, 562, 1181, 686, 957, 189, 975, 699, 510, 1082, 474, 856, 747, 252, 21, 459, 1184, 276, 955, 385, 805, 343, 769, 130, 871, 1123, 87, 330, 466, 121, 1044, 1095, 1130, 860, 1126]\n"
     ]
    }
   ],
   "source": [
    "project_collected_data_csv_path = \"/Users/marcusschou/Desktop/SDU/data_science/kurser_4/Speciale_Data_Science/DLC/DLC - projects/head_annotation_data_nat_updated_v2_top_down_resnet-run1-2025-04-08/labeled-data/head_annotation_data_nat_updated_v2/CollectedData_run1.csv\"\n",
    "\n",
    "train_indicies, test_indicies = dlc_wrapper.split_indicies(project_collected_data_csv_path)\n",
    "print(len(train_indicies))\n",
    "print(len(test_indicies))"
   ]
  },
  {
   "cell_type": "markdown",
   "metadata": {},
   "source": [
    "### Checking for avalible models to use:"
   ]
  },
  {
   "cell_type": "code",
   "execution_count": 5,
   "metadata": {},
   "outputs": [
    {
     "name": "stdout",
     "output_type": "stream",
     "text": [
      "['animaltokenpose_base', 'cspnext_m', 'cspnext_s', 'cspnext_x', 'dekr_w18', 'dekr_w32', 'dekr_w48', 'dlcrnet_stride16_ms5', 'dlcrnet_stride32_ms5', 'hrnet_w18', 'hrnet_w32', 'hrnet_w48', 'resnet_101', 'resnet_50', 'rtmpose_m', 'rtmpose_s', 'rtmpose_x', 'top_down_cspnext_m', 'top_down_cspnext_s', 'top_down_cspnext_x', 'top_down_hrnet_w18', 'top_down_hrnet_w32', 'top_down_hrnet_w48', 'top_down_resnet_101', 'top_down_resnet_50']\n"
     ]
    }
   ],
   "source": [
    "from deeplabcut.pose_estimation_pytorch import available_models\n",
    "print(available_models())"
   ]
  },
  {
   "cell_type": "markdown",
   "metadata": {},
   "source": [
    "### Defining config.yaml filepath:"
   ]
  },
  {
   "cell_type": "code",
   "execution_count": 6,
   "metadata": {},
   "outputs": [
    {
     "data": {
      "text/plain": [
       "'/Users/marcusschou/Desktop/SDU/data_science/kurser_4/Speciale_Data_Science/DLC/DLC - projects/head_annotation_data_nat_updated_v2_top_down_resnet-run1-2025-04-08/config.yaml'"
      ]
     },
     "execution_count": 6,
     "metadata": {},
     "output_type": "execute_result"
    }
   ],
   "source": [
    "project_dir = \"/Users/marcusschou/Desktop/SDU/data_science/kurser_4/Speciale_Data_Science/DLC/DLC - projects/head_annotation_data_nat_updated_v2_top_down_resnet-run1-2025-04-08\"\n",
    "config_path = os.path.join(project_dir, \"config.yaml\")\n",
    "config_path"
   ]
  },
  {
   "cell_type": "markdown",
   "metadata": {},
   "source": [
    "### Config.yaml:"
   ]
  },
  {
   "cell_type": "code",
   "execution_count": 7,
   "metadata": {},
   "outputs": [
    {
     "data": {
      "text/plain": [
       "{'Task': 'head_annotation_data_nat_updated_v2_top_down_resnet', 'scorer': 'run1', 'date': 'Apr8', 'multianimalproject': False, 'identity': None, 'project_path': '/Users/marcusschou/Desktop/SDU/data_science/kurser_4/Speciale_Data_Science/DLC/DLC - projects/head_annotation_data_nat_updated_v2_top_down_resnet-run1-2025-04-08', 'engine': 'pytorch', 'video_sets': {'/Users/marcusschou/Desktop/SDU/data_science/kurser_4/Speciale_Data_Science/data/videos/head_annotation_data_nat_updated_v2.mp4': {'crop': '0, 1024, 0, 1024'}}, 'bodyparts': ['Nose', 'MthTop', 'MthLCorn', 'MthBott', 'MthRCorn', 'EyeL', 'EyeR', 'EarLTip', 'EarRTip', 'TrgLTip', 'TrgRTip', 'EarLMidL', 'EarLMidR', 'EarRMidL', 'EarRMidR', 'TrgLBaseL', 'TrgLBaseR', 'TrgRBaseL', 'TrgRBaseR', 'Worm'], 'start': 0, 'stop': 1, 'skeleton': [['Nose', 'MthTop'], ['Nose', 'MthLCorn'], ['Nose', 'MthBott'], ['Nose', 'MthRCorn'], ['Nose', 'EyeL'], ['Nose', 'EyeR'], ['Nose', 'EarLTip'], ['Nose', 'EarRTip'], ['Nose', 'TrgLTip'], ['Nose', 'TrgRTip'], ['Nose', 'EarLMidL'], ['Nose', 'EarLMidR'], ['Nose', 'EarRMidL'], ['Nose', 'EarRMidR'], ['Nose', 'TrgLBaseL'], ['Nose', 'TrgLBaseR'], ['Nose', 'TrgRBaseL'], ['Nose', 'TrgRBaseR']], 'skeleton_color': 'red', 'pcutoff': 0.6, 'dotsize': 12, 'alphavalue': 0.7, 'colormap': 'rainbow', 'TrainingFraction': [0.8], 'iteration': 0, 'default_net_type': 'resnet_50', 'default_augmenter': 'default', 'snapshotindex': -1, 'detector_snapshotindex': -1, 'batch_size': 2, 'detector_batch_size': 1, 'cropping': False, 'x1': 0, 'x2': 640, 'y1': 277, 'y2': 624, 'corner2move2': [50, 50], 'move2corner': True, 'SuperAnimalConversionTables': None}"
      ]
     },
     "execution_count": 7,
     "metadata": {},
     "output_type": "execute_result"
    }
   ],
   "source": [
    "config_dict = {\n",
    "    \"TrainingFraction\": [0.80],\n",
    "    \"batch_size\": 2\n",
    "}\n",
    "\n",
    "dlc.auxiliaryfunctions.edit_config(config_path, config_dict)"
   ]
  },
  {
   "cell_type": "markdown",
   "metadata": {},
   "source": [
    "### Creating training dataset:"
   ]
  },
  {
   "cell_type": "code",
   "execution_count": 8,
   "metadata": {},
   "outputs": [
    {
     "name": "stdout",
     "output_type": "stream",
     "text": [
      "You passed a split with the following fraction: 80%\n"
     ]
    },
    {
     "data": {
      "text/plain": [
       "[(0.8,\n",
       "  1,\n",
       "  (array([ 801,  677,   43,  990,   70,  704,  908,  210,  599,  306,  478,\n",
       "           948,  875,  597, 1069, 1162,  231,  838,  371,  713,  425, 1164,\n",
       "           781, 1152,  294,  451,  589,  410,  585,  949,  693,  578, 1158,\n",
       "           888,  890,  196,  743,  365,  123, 1037,   44,  756,  679,  935,\n",
       "          1180,  439, 1015,  107,   81, 1205, 1198,  170,  538, 1203,  997,\n",
       "           992,  277,   76,   78,  128,  429,   49,  344,  762, 1125,  813,\n",
       "           244,  567, 1113,  905,  382,   23,  528,  965,   58, 1033,  917,\n",
       "           323,  355, 1014,  660,  292,  332, 1009,  536,  113,  147,  101,\n",
       "            51,  308,  667,  415,  390,  321,  652,  240,  233,   54, 1175,\n",
       "           198,  109,   56,   86,  706, 1022,  543, 1174,  741,  914,  873,\n",
       "          1146,  657, 1019,  554,  209,  634,  630,  409, 1031,  643,  465,\n",
       "           405,  309,  453,  208,  736,  243,  155, 1114, 1042,  834,  275,\n",
       "           613,  783,  381,  692,  988,  789,  199,  490,  549,  462,  730,\n",
       "          1155,  979,  934,  461,  545,  296,  711,  432,  259,  433,  331,\n",
       "           494,  168,  135,  534,  428,  328, 1202,  158,  140,  868,  314,\n",
       "           174, 1102,  218,  220,  265,  866,  442,  557,  184,  551,  945,\n",
       "           901,  163,  572,  950,  156,  885,  506, 1142,  925, 1035, 1204,\n",
       "           290,  682,  998,  764,  192,  527,  438,  286,  427,  976,  573,\n",
       "           532,  752,   96, 1128,  836,  178,   31,  727,  872,  342, 1062,\n",
       "           247,  327,  707,  380,   88,  618,  553,  978,  869, 1050,  319,\n",
       "           481,  629,  584,  352,  602,  614,  358,  529,   10,  596,  413,\n",
       "           435,   59,  310,   63,  298,  350,  716,  904,  673,  708,  367,\n",
       "           464,  806,  591,  361,  266,  879, 1134, 1161, 1189,  991,  575,\n",
       "           754, 1127,  987,  270, 1067,   83,  129,  636,  907,  916,  447,\n",
       "           260,  755, 1078,  894,  497,  138,  941,  141,  558,  822,  420,\n",
       "           139,  938, 1112,  224,  333,  274,  289,  424,  644,  376,  583,\n",
       "          1072, 1066,  767,  717,  590,  467,  523,  605,  996,  650, 1188,\n",
       "           486,   39,   30,  242,  671,  136, 1147,  731,    3, 1211,  617,\n",
       "          1207,  809, 1052,  757,  479,  946,  694,  812,    5,  100,  849,\n",
       "           519, 1058,  857,  745,  394,  621,  227,  845, 1032,  654,  398,\n",
       "            66,   67,  377,  211,   12, 1070,  830,  299,  522,  862, 1085,\n",
       "           826, 1179, 1148,  362, 1083,  471, 1209,  581,  661,  273,  526,\n",
       "           237,  761,    2,    6,  311, 1039,  363, 1100,  215,  898,   27,\n",
       "          1168,  874,  670,  931,  482,  927,  947,  548,  354, 1060,  423,\n",
       "           256,  291,   25,  336,  411,   47,  318,  106,  816,   55,  535,\n",
       "           213,  120, 1080,  430,  533,   72,  969, 1018,  631,  963,  912,\n",
       "           802,  566,  728,  746,  514,  325,  944,  316,  811,  846,  541,\n",
       "           701, 1034,  765,  560,   60,  739,   92,  876,  712,  351,  953,\n",
       "           280, 1088,  422,  359,  493,  561,  850,  588,  668, 1090,  182,\n",
       "          1084,  458,  110,  370,  239, 1105, 1138,  930,  204,  823,  261,\n",
       "           594,  665,  339,  855,  844,  485,  183,  137, 1171,  723, 1068,\n",
       "            80,  513, 1097,  778,   29, 1093,  165,  248,  307,  780,  738,\n",
       "           346,  334,  285,  971,   97,  626, 1047,  933,  710,  839,  628,\n",
       "           819,  774,  970,   65, 1007,  760,  582, 1094, 1109,  302,  254,\n",
       "           980,  952,  312,  542,  221,  477,  388,  235,  859,  983, 1054,\n",
       "           305, 1121,  807,  788,  937, 1149,  249, 1166,  609,   71,   94,\n",
       "           787,   33, 1077,  785,  593,  448,  445,  841, 1197, 1061,   77,\n",
       "            84,  552,   82,  457,  753,  436, 1108,  910,  404, 1055,  622,\n",
       "          1173,  104,  759,  620,   62,  281,  678,  238,  223,  145, 1153,\n",
       "           373,  118,  820,  250, 1167,    9,  449,  893,  389, 1075,  921,\n",
       "           460, 1115,  144,  501, 1118,  539,  177, 1169,  715,  598, 1206,\n",
       "             7,  570,  861,  357,  329,  721,  848,  258,  887,  911,  889,\n",
       "           615,  847,  525, 1177,  735,  768, 1151,  440,  531, 1043,  228,\n",
       "          1074,  212,   79,  148,  720,  724,  714,  133,  843,  408,  772,\n",
       "           507, 1010,  504,  732,  347,  386,    0,  360, 1144,  475, 1096,\n",
       "           770,  172,  450,  125,  852,  530,   90, 1172,  181,  700, 1023,\n",
       "           251,   69,  131,  300, 1045,  326, 1185,  499,  829,  939,  495,\n",
       "           338,  985,  164,   28,  516,  193,  649,  796,  169,  842,  173,\n",
       "           518,  940,  718,  491,   73, 1003,  587,  234,  214,  968,  132,\n",
       "           793, 1048,  961,  185,   41,  108,  867,  568,  666, 1024, 1165,\n",
       "           483,  468,   24,  676,  695, 1199, 1119,  366,  858, 1063,  383,\n",
       "           454,  264,  777, 1002,  444,  395,  864,  176,   18,  722,  832,\n",
       "           595,   61,  272, 1136,  278, 1183,  368,  906,  837, 1030,  737,\n",
       "           798,  547,  899,  688,  920,  456,  393,  675,  932,  986,  375,\n",
       "           412,   74, 1132,  881,  500,  818,  616,  114,  417,  601,  604,\n",
       "            89, 1159,  498,  966,  902,  900,   11,  396,  771,  555,   42,\n",
       "           167,  416,  576,  267,  825,  426,  690,  544, 1133,  674,  689,\n",
       "          1065, 1187, 1004,  903,  257,  335,   15,  922,  324,  607, 1131,\n",
       "           808,  222,  179,   99,  521,   22,  356,  733,  982, 1122,  611,\n",
       "          1029,  340,  431,  962,  217,  203,  926,  943,   93,  924,   68,\n",
       "           958,  284,  696,   85,  434,  814,  153,   75, 1053,  580,  446,\n",
       "           703,  188,  271,  236,  487, 1170,  559,  117,  637, 1087,  750,\n",
       "           512,  633,  803, 1026,  884,  126,  790,  116,  473,  740, 1143,\n",
       "            57,  603,  786,  993,  656,  923,  942,  105,  635,  369,  268,\n",
       "           655,   46,  349,  773,  195,  102,    4,  619, 1013,   52,  263,\n",
       "          1103,  443,  994,  782,  865,  691,  304,  341,  886,  313,  149,\n",
       "           124, 1073,  574,  697,  664,   50,  726,  799,  833,  353, 1163,\n",
       "           142,  470,  653,  399,  918,  936,  320,   19,  684,   35,  824,\n",
       "           505,  827, 1081,  407,  817,  537,  758, 1079,  974,   38,  175,\n",
       "           245,  810, 1208,  984,  784, 1196,  489,  154,  638,  662,  853,\n",
       "           287,  625, 1137,  685, 1027,  892,  569, 1176,  734,  792,   17,\n",
       "           127,  322,  255,  964, 1190,  190,  115, 1193,  909,  606,  180,\n",
       "           301,  496,  348, 1046, 1005,  744, 1092,  977,  517,  372,   45,\n",
       "           476,  157, 1057,  171,   16,  511,   48,  191,  546,  515, 1000,\n",
       "           959,  828, 1006,  480, 1139,  283, 1040,  797, 1157,  225,   26,\n",
       "           282, 1160,  437, 1178,  364,  229,   37,  669,  749, 1191,  374,\n",
       "           469,  882, 1192,  687,   32,  639, 1049,  194, 1116, 1124,  973,\n",
       "           503,  915,  999, 1194, 1098,  800,  579,  160,  680,  956, 1141,\n",
       "           162]),\n",
       "   array([ 821,  705, 1101,  877,  895,  913, 1210,  152, 1001, 1156,  509,\n",
       "           111,  226, 1008,  851,  103,  421,  419,  967,  624,  586, 1111,\n",
       "           919,  672,  119,   53,  151,  403, 1200,  207, 1145,  658, 1107,\n",
       "           232,    8,  159,   36,  452,  651,  253,  303,  896, 1186,  880,\n",
       "           571, 1011,  623,  345, 1041, 1036,  262,  610,  297,  989,  414,\n",
       "           150,  472,  640, 1201, 1140,  550,  928,  488, 1091,  146,  402,\n",
       "           954, 1135,  659,  463,  186,  608,  143,  751,  981,  197,  883,\n",
       "           279,  293, 1099,  400,  122,  202,  835,  246, 1150,  384,  854,\n",
       "           219,  641,    1,  112,  698,  951, 1089,  441,  663, 1106,  317,\n",
       "           648,  709,  972,  627,  632, 1182, 1117,  795,  645, 1012,  556,\n",
       "           681,  577,  524, 1059,  540,  748, 1120,  484,   95, 1020,  563,\n",
       "           742,  863,  891, 1038,  206,  392,  794,  870,  397,  766, 1110,\n",
       "          1028,  642,  612,  960,  725,  683,   98,  804,  406,  502, 1071,\n",
       "          1056,  929,  779,  200,  134, 1051,   40, 1017,  230,  378,  288,\n",
       "           418,  391,  592, 1086,  647,  520,   64,   14, 1064,  492,  379,\n",
       "           187,  763,  216,  791, 1076,  878,  337,  719,  295, 1016,  455,\n",
       "           815,  269,  995,  201,  161,  729,  401,  702, 1129,  565, 1021,\n",
       "          1025, 1104,  205,   34,  775,  508, 1195,   91,  897,  564,  776,\n",
       "           241,   13,  315,  600,  387,  166,  840,   20,  646, 1154,  831,\n",
       "           562, 1181,  686,  957,  189,  975,  699,  510, 1082,  474,  856,\n",
       "           747,  252,   21,  459, 1184,  276,  955,  385,  805,  343,  769,\n",
       "           130,  871, 1123,   87,  330,  466,  121, 1044, 1095, 1130,  860,\n",
       "          1126])))]"
      ]
     },
     "execution_count": 8,
     "metadata": {},
     "output_type": "execute_result"
    }
   ],
   "source": [
    "# Creating the pytorch dataset for training:\n",
    "dlc.create_training_dataset(\n",
    "    config_path,  \n",
    "    trainIndices=[train_indicies], \n",
    "    testIndices=[test_indicies], \n",
    "    num_shuffles=1,\n",
    "    net_type=\"top_down_resnet_50\",\n",
    ")"
   ]
  },
  {
   "cell_type": "markdown",
   "metadata": {},
   "source": [
    "## Config Butttom-up:"
   ]
  },
  {
   "cell_type": "markdown",
   "metadata": {},
   "source": [
    "### Creating DLC project from .h5 files:"
   ]
  },
  {
   "cell_type": "code",
   "execution_count": 9,
   "metadata": {},
   "outputs": [
    {
     "name": "stdout",
     "output_type": "stream",
     "text": [
      "Created \"/Users/marcusschou/Desktop/SDU/data_science/kurser_4/Speciale_Data_Science/DLC/DLC - projects/head_annotation_data_nat_updated_v2_buttom_up_default_resnet-run1-2025-04-08/videos\"\n",
      "Created \"/Users/marcusschou/Desktop/SDU/data_science/kurser_4/Speciale_Data_Science/DLC/DLC - projects/head_annotation_data_nat_updated_v2_buttom_up_default_resnet-run1-2025-04-08/labeled-data\"\n",
      "Created \"/Users/marcusschou/Desktop/SDU/data_science/kurser_4/Speciale_Data_Science/DLC/DLC - projects/head_annotation_data_nat_updated_v2_buttom_up_default_resnet-run1-2025-04-08/training-datasets\"\n",
      "Created \"/Users/marcusschou/Desktop/SDU/data_science/kurser_4/Speciale_Data_Science/DLC/DLC - projects/head_annotation_data_nat_updated_v2_buttom_up_default_resnet-run1-2025-04-08/dlc-models\"\n",
      "Attempting to create a symbolic link of the video ...\n",
      "Created the symlink of /Users/marcusschou/Desktop/SDU/data_science/kurser_4/Speciale_Data_Science/data/videos/head_annotation_data_nat_updated_v2.mp4 to /Users/marcusschou/Desktop/SDU/data_science/kurser_4/Speciale_Data_Science/DLC/DLC - projects/head_annotation_data_nat_updated_v2_buttom_up_default_resnet-run1-2025-04-08/videos/head_annotation_data_nat_updated_v2.mp4\n",
      "/Users/marcusschou/Desktop/SDU/data_science/kurser_4/Speciale_Data_Science/DLC/DLC - projects/head_annotation_data_nat_updated_v2_buttom_up_default_resnet-run1-2025-04-08/videos/head_annotation_data_nat_updated_v2.mp4\n",
      "Generated \"/Users/marcusschou/Desktop/SDU/data_science/kurser_4/Speciale_Data_Science/DLC/DLC - projects/head_annotation_data_nat_updated_v2_buttom_up_default_resnet-run1-2025-04-08/config.yaml\"\n",
      "\n",
      "A new project with name head_annotation_data_nat_updated_v2_buttom_up_default_resnet-run1-2025-04-08 is created at /Users/marcusschou/Desktop/SDU/data_science/kurser_4/Speciale_Data_Science/DLC/DLC - projects and a configurable file (config.yaml) is stored there. Change the parameters in this file to adapt to your project's needs.\n",
      " Once you have changed the configuration file, use the function 'extract_frames' to select frames for labeling.\n",
      ". [OPTIONAL] Use the function 'add_new_videos' to add new videos to your project (at any stage).\n",
      "##################################################\n",
      "Project dir: /Users/marcusschou/Desktop/SDU/data_science/kurser_4/Speciale_Data_Science/DLC/DLC - projects/head_annotation_data_nat_updated_v2_buttom_up_default_resnet-run1-2025-04-08\n",
      "Config filepath: /Users/marcusschou/Desktop/SDU/data_science/kurser_4/Speciale_Data_Science/DLC/DLC - projects/head_annotation_data_nat_updated_v2_buttom_up_default_resnet-run1-2025-04-08/config.yaml\n",
      "labeled-data dir: /Users/marcusschou/Desktop/SDU/data_science/kurser_4/Speciale_Data_Science/DLC/DLC - projects/head_annotation_data_nat_updated_v2_buttom_up_default_resnet-run1-2025-04-08/labeled-data/head_annotation_data_nat_updated_v2\n",
      "##################################################\n",
      "Total frames: 1566\n",
      "Frames marked for removal: 354\n",
      "Frames kept: 1212\n",
      "New Annotations shape: (1212, 20, 2)\n",
      "New Images shape: (1212, 1024, 1024, 1)\n",
      "Writing frames to DLC project\n"
     ]
    },
    {
     "name": "stderr",
     "output_type": "stream",
     "text": [
      "1212it [00:09, 129.67it/s]\n"
     ]
    },
    {
     "name": "stdout",
     "output_type": "stream",
     "text": [
      "Adding the skeleton to the config.yaml file\n"
     ]
    },
    {
     "name": "stderr",
     "output_type": "stream",
     "text": [
      "20it [00:00, 15872.48it/s]\n",
      "/opt/anaconda3/envs/DEEPLABCUT/lib/python3.10/site-packages/deeplabcut/utils/auxiliaryfunctions.py:294: UserWarning: Some edits could not be written. The configuration file will be left unchanged.\n",
      "  warnings.warn(\n"
     ]
    },
    {
     "name": "stdout",
     "output_type": "stream",
     "text": [
      "Creating the labeled-data.csv for the DLC project\n"
     ]
    },
    {
     "name": "stderr",
     "output_type": "stream",
     "text": [
      "1212it [00:00, 45234.08it/s]\n"
     ]
    },
    {
     "name": "stdout",
     "output_type": "stream",
     "text": [
      "DLC project is ready at /Users/marcusschou/Desktop/SDU/data_science/kurser_4/Speciale_Data_Science/DLC/DLC - projects/\n"
     ]
    }
   ],
   "source": [
    "PROJECT_NAME = \"head_annotation_data_nat_updated_v2_buttom_up_default_resnet\"\n",
    "EXPERIMENTER = \"run1\"\n",
    "\n",
    "dlc_wrapper.h5_to_dlc_project(\n",
    "    h5_file_path=\"/Users/marcusschou/Desktop/SDU/data_science/kurser_4/Speciale_Data_Science/data/h5_files/head_annotation_data_nat_updated_v2.h5\",\n",
    "    skeleton_csv_path=\"/Users/marcusschou/Desktop/SDU/data_science/kurser_4/Speciale_Data_Science/data/skeletons/natskeleton_noposs.csv\",\n",
    "    project_name=PROJECT_NAME,\n",
    "    experimenter=EXPERIMENTER,\n",
    "    video_paths=[\n",
    "        \"/Users/marcusschou/Desktop/SDU/data_science/kurser_4/Speciale_Data_Science/data/videos/head_annotation_data_nat_updated_v2.mp4\" \n",
    "    ]\n",
    ")"
   ]
  },
  {
   "cell_type": "markdown",
   "metadata": {},
   "source": [
    "### Getting the train and test indicies:"
   ]
  },
  {
   "cell_type": "code",
   "execution_count": 11,
   "metadata": {},
   "outputs": [
    {
     "name": "stdout",
     "output_type": "stream",
     "text": [
      "969\n",
      "243\n"
     ]
    }
   ],
   "source": [
    "project_collected_data_csv_path = \"/Users/marcusschou/Desktop/SDU/data_science/kurser_4/Speciale_Data_Science/DLC/DLC - projects/head_annotation_data_nat_updated_v2_buttom_up_default_resnet-run1-2025-04-08/labeled-data/head_annotation_data_nat_updated_v2/CollectedData_run1.csv\"\n",
    "\n",
    "train_indicies, test_indicies = dlc_wrapper.split_indicies(project_collected_data_csv_path)\n",
    "print(len(train_indicies))\n",
    "print(len(test_indicies))"
   ]
  },
  {
   "cell_type": "markdown",
   "metadata": {},
   "source": [
    "### Checking for avalible models to use:"
   ]
  },
  {
   "cell_type": "code",
   "execution_count": 12,
   "metadata": {},
   "outputs": [
    {
     "name": "stdout",
     "output_type": "stream",
     "text": [
      "['animaltokenpose_base', 'cspnext_m', 'cspnext_s', 'cspnext_x', 'dekr_w18', 'dekr_w32', 'dekr_w48', 'dlcrnet_stride16_ms5', 'dlcrnet_stride32_ms5', 'hrnet_w18', 'hrnet_w32', 'hrnet_w48', 'resnet_101', 'resnet_50', 'rtmpose_m', 'rtmpose_s', 'rtmpose_x', 'top_down_cspnext_m', 'top_down_cspnext_s', 'top_down_cspnext_x', 'top_down_hrnet_w18', 'top_down_hrnet_w32', 'top_down_hrnet_w48', 'top_down_resnet_101', 'top_down_resnet_50']\n"
     ]
    }
   ],
   "source": [
    "from deeplabcut.pose_estimation_pytorch import available_models\n",
    "print(available_models())"
   ]
  },
  {
   "cell_type": "markdown",
   "metadata": {},
   "source": [
    "### Defining config.yaml filepath:"
   ]
  },
  {
   "cell_type": "code",
   "execution_count": 13,
   "metadata": {},
   "outputs": [
    {
     "data": {
      "text/plain": [
       "'/Users/marcusschou/Desktop/SDU/data_science/kurser_4/Speciale_Data_Science/DLC/DLC - projects/head_annotation_data_nat_updated_v2_buttom_up_default_resnet-run1-2025-04-08/config.yaml'"
      ]
     },
     "execution_count": 13,
     "metadata": {},
     "output_type": "execute_result"
    }
   ],
   "source": [
    "project_dir = \"/Users/marcusschou/Desktop/SDU/data_science/kurser_4/Speciale_Data_Science/DLC/DLC - projects/head_annotation_data_nat_updated_v2_buttom_up_default_resnet-run1-2025-04-08\"\n",
    "config_path = os.path.join(project_dir, \"config.yaml\")\n",
    "config_path"
   ]
  },
  {
   "cell_type": "markdown",
   "metadata": {},
   "source": [
    "### Config.yaml:"
   ]
  },
  {
   "cell_type": "code",
   "execution_count": 14,
   "metadata": {},
   "outputs": [
    {
     "data": {
      "text/plain": [
       "{'Task': 'head_annotation_data_nat_updated_v2_buttom_up_default_resnet', 'scorer': 'run1', 'date': 'Apr8', 'multianimalproject': False, 'identity': None, 'project_path': '/Users/marcusschou/Desktop/SDU/data_science/kurser_4/Speciale_Data_Science/DLC/DLC - projects/head_annotation_data_nat_updated_v2_buttom_up_default_resnet-run1-2025-04-08', 'engine': 'pytorch', 'video_sets': {'/Users/marcusschou/Desktop/SDU/data_science/kurser_4/Speciale_Data_Science/data/videos/head_annotation_data_nat_updated_v2.mp4': {'crop': '0, 1024, 0, 1024'}}, 'bodyparts': ['Nose', 'MthTop', 'MthLCorn', 'MthBott', 'MthRCorn', 'EyeL', 'EyeR', 'EarLTip', 'EarRTip', 'TrgLTip', 'TrgRTip', 'EarLMidL', 'EarLMidR', 'EarRMidL', 'EarRMidR', 'TrgLBaseL', 'TrgLBaseR', 'TrgRBaseL', 'TrgRBaseR', 'Worm'], 'start': 0, 'stop': 1, 'skeleton': [['Nose', 'MthTop'], ['Nose', 'MthLCorn'], ['Nose', 'MthBott'], ['Nose', 'MthRCorn'], ['Nose', 'EyeL'], ['Nose', 'EyeR'], ['Nose', 'EarLTip'], ['Nose', 'EarRTip'], ['Nose', 'TrgLTip'], ['Nose', 'TrgRTip'], ['Nose', 'EarLMidL'], ['Nose', 'EarLMidR'], ['Nose', 'EarRMidL'], ['Nose', 'EarRMidR'], ['Nose', 'TrgLBaseL'], ['Nose', 'TrgLBaseR'], ['Nose', 'TrgRBaseL'], ['Nose', 'TrgRBaseR']], 'skeleton_color': 'red', 'pcutoff': 0.6, 'dotsize': 12, 'alphavalue': 0.7, 'colormap': 'rainbow', 'TrainingFraction': [0.8], 'iteration': 0, 'default_net_type': 'resnet_50', 'default_augmenter': 'default', 'snapshotindex': -1, 'detector_snapshotindex': -1, 'batch_size': 2, 'detector_batch_size': 1, 'cropping': False, 'x1': 0, 'x2': 640, 'y1': 277, 'y2': 624, 'corner2move2': [50, 50], 'move2corner': True, 'SuperAnimalConversionTables': None}"
      ]
     },
     "execution_count": 14,
     "metadata": {},
     "output_type": "execute_result"
    }
   ],
   "source": [
    "config_dict = {\n",
    "    \"TrainingFraction\": [0.80],\n",
    "    \"batch_size\": 2\n",
    "}\n",
    "\n",
    "dlc.auxiliaryfunctions.edit_config(config_path, config_dict)"
   ]
  },
  {
   "cell_type": "markdown",
   "metadata": {},
   "source": [
    "### Creating training dataset:"
   ]
  },
  {
   "cell_type": "code",
   "execution_count": 15,
   "metadata": {},
   "outputs": [
    {
     "name": "stdout",
     "output_type": "stream",
     "text": [
      "You passed a split with the following fraction: 80%\n"
     ]
    },
    {
     "data": {
      "text/plain": [
       "[(0.8,\n",
       "  1,\n",
       "  (array([ 801,  677,   43,  990,   70,  704,  908,  210,  599,  306,  478,\n",
       "           948,  875,  597, 1069, 1162,  231,  838,  371,  713,  425, 1164,\n",
       "           781, 1152,  294,  451,  589,  410,  585,  949,  693,  578, 1158,\n",
       "           888,  890,  196,  743,  365,  123, 1037,   44,  756,  679,  935,\n",
       "          1180,  439, 1015,  107,   81, 1205, 1198,  170,  538, 1203,  997,\n",
       "           992,  277,   76,   78,  128,  429,   49,  344,  762, 1125,  813,\n",
       "           244,  567, 1113,  905,  382,   23,  528,  965,   58, 1033,  917,\n",
       "           323,  355, 1014,  660,  292,  332, 1009,  536,  113,  147,  101,\n",
       "            51,  308,  667,  415,  390,  321,  652,  240,  233,   54, 1175,\n",
       "           198,  109,   56,   86,  706, 1022,  543, 1174,  741,  914,  873,\n",
       "          1146,  657, 1019,  554,  209,  634,  630,  409, 1031,  643,  465,\n",
       "           405,  309,  453,  208,  736,  243,  155, 1114, 1042,  834,  275,\n",
       "           613,  783,  381,  692,  988,  789,  199,  490,  549,  462,  730,\n",
       "          1155,  979,  934,  461,  545,  296,  711,  432,  259,  433,  331,\n",
       "           494,  168,  135,  534,  428,  328, 1202,  158,  140,  868,  314,\n",
       "           174, 1102,  218,  220,  265,  866,  442,  557,  184,  551,  945,\n",
       "           901,  163,  572,  950,  156,  885,  506, 1142,  925, 1035, 1204,\n",
       "           290,  682,  998,  764,  192,  527,  438,  286,  427,  976,  573,\n",
       "           532,  752,   96, 1128,  836,  178,   31,  727,  872,  342, 1062,\n",
       "           247,  327,  707,  380,   88,  618,  553,  978,  869, 1050,  319,\n",
       "           481,  629,  584,  352,  602,  614,  358,  529,   10,  596,  413,\n",
       "           435,   59,  310,   63,  298,  350,  716,  904,  673,  708,  367,\n",
       "           464,  806,  591,  361,  266,  879, 1134, 1161, 1189,  991,  575,\n",
       "           754, 1127,  987,  270, 1067,   83,  129,  636,  907,  916,  447,\n",
       "           260,  755, 1078,  894,  497,  138,  941,  141,  558,  822,  420,\n",
       "           139,  938, 1112,  224,  333,  274,  289,  424,  644,  376,  583,\n",
       "          1072, 1066,  767,  717,  590,  467,  523,  605,  996,  650, 1188,\n",
       "           486,   39,   30,  242,  671,  136, 1147,  731,    3, 1211,  617,\n",
       "          1207,  809, 1052,  757,  479,  946,  694,  812,    5,  100,  849,\n",
       "           519, 1058,  857,  745,  394,  621,  227,  845, 1032,  654,  398,\n",
       "            66,   67,  377,  211,   12, 1070,  830,  299,  522,  862, 1085,\n",
       "           826, 1179, 1148,  362, 1083,  471, 1209,  581,  661,  273,  526,\n",
       "           237,  761,    2,    6,  311, 1039,  363, 1100,  215,  898,   27,\n",
       "          1168,  874,  670,  931,  482,  927,  947,  548,  354, 1060,  423,\n",
       "           256,  291,   25,  336,  411,   47,  318,  106,  816,   55,  535,\n",
       "           213,  120, 1080,  430,  533,   72,  969, 1018,  631,  963,  912,\n",
       "           802,  566,  728,  746,  514,  325,  944,  316,  811,  846,  541,\n",
       "           701, 1034,  765,  560,   60,  739,   92,  876,  712,  351,  953,\n",
       "           280, 1088,  422,  359,  493,  561,  850,  588,  668, 1090,  182,\n",
       "          1084,  458,  110,  370,  239, 1105, 1138,  930,  204,  823,  261,\n",
       "           594,  665,  339,  855,  844,  485,  183,  137, 1171,  723, 1068,\n",
       "            80,  513, 1097,  778,   29, 1093,  165,  248,  307,  780,  738,\n",
       "           346,  334,  285,  971,   97,  626, 1047,  933,  710,  839,  628,\n",
       "           819,  774,  970,   65, 1007,  760,  582, 1094, 1109,  302,  254,\n",
       "           980,  952,  312,  542,  221,  477,  388,  235,  859,  983, 1054,\n",
       "           305, 1121,  807,  788,  937, 1149,  249, 1166,  609,   71,   94,\n",
       "           787,   33, 1077,  785,  593,  448,  445,  841, 1197, 1061,   77,\n",
       "            84,  552,   82,  457,  753,  436, 1108,  910,  404, 1055,  622,\n",
       "          1173,  104,  759,  620,   62,  281,  678,  238,  223,  145, 1153,\n",
       "           373,  118,  820,  250, 1167,    9,  449,  893,  389, 1075,  921,\n",
       "           460, 1115,  144,  501, 1118,  539,  177, 1169,  715,  598, 1206,\n",
       "             7,  570,  861,  357,  329,  721,  848,  258,  887,  911,  889,\n",
       "           615,  847,  525, 1177,  735,  768, 1151,  440,  531, 1043,  228,\n",
       "          1074,  212,   79,  148,  720,  724,  714,  133,  843,  408,  772,\n",
       "           507, 1010,  504,  732,  347,  386,    0,  360, 1144,  475, 1096,\n",
       "           770,  172,  450,  125,  852,  530,   90, 1172,  181,  700, 1023,\n",
       "           251,   69,  131,  300, 1045,  326, 1185,  499,  829,  939,  495,\n",
       "           338,  985,  164,   28,  516,  193,  649,  796,  169,  842,  173,\n",
       "           518,  940,  718,  491,   73, 1003,  587,  234,  214,  968,  132,\n",
       "           793, 1048,  961,  185,   41,  108,  867,  568,  666, 1024, 1165,\n",
       "           483,  468,   24,  676,  695, 1199, 1119,  366,  858, 1063,  383,\n",
       "           454,  264,  777, 1002,  444,  395,  864,  176,   18,  722,  832,\n",
       "           595,   61,  272, 1136,  278, 1183,  368,  906,  837, 1030,  737,\n",
       "           798,  547,  899,  688,  920,  456,  393,  675,  932,  986,  375,\n",
       "           412,   74, 1132,  881,  500,  818,  616,  114,  417,  601,  604,\n",
       "            89, 1159,  498,  966,  902,  900,   11,  396,  771,  555,   42,\n",
       "           167,  416,  576,  267,  825,  426,  690,  544, 1133,  674,  689,\n",
       "          1065, 1187, 1004,  903,  257,  335,   15,  922,  324,  607, 1131,\n",
       "           808,  222,  179,   99,  521,   22,  356,  733,  982, 1122,  611,\n",
       "          1029,  340,  431,  962,  217,  203,  926,  943,   93,  924,   68,\n",
       "           958,  284,  696,   85,  434,  814,  153,   75, 1053,  580,  446,\n",
       "           703,  188,  271,  236,  487, 1170,  559,  117,  637, 1087,  750,\n",
       "           512,  633,  803, 1026,  884,  126,  790,  116,  473,  740, 1143,\n",
       "            57,  603,  786,  993,  656,  923,  942,  105,  635,  369,  268,\n",
       "           655,   46,  349,  773,  195,  102,    4,  619, 1013,   52,  263,\n",
       "          1103,  443,  994,  782,  865,  691,  304,  341,  886,  313,  149,\n",
       "           124, 1073,  574,  697,  664,   50,  726,  799,  833,  353, 1163,\n",
       "           142,  470,  653,  399,  918,  936,  320,   19,  684,   35,  824,\n",
       "           505,  827, 1081,  407,  817,  537,  758, 1079,  974,   38,  175,\n",
       "           245,  810, 1208,  984,  784, 1196,  489,  154,  638,  662,  853,\n",
       "           287,  625, 1137,  685, 1027,  892,  569, 1176,  734,  792,   17,\n",
       "           127,  322,  255,  964, 1190,  190,  115, 1193,  909,  606,  180,\n",
       "           301,  496,  348, 1046, 1005,  744, 1092,  977,  517,  372,   45,\n",
       "           476,  157, 1057,  171,   16,  511,   48,  191,  546,  515, 1000,\n",
       "           959,  828, 1006,  480, 1139,  283, 1040,  797, 1157,  225,   26,\n",
       "           282, 1160,  437, 1178,  364,  229,   37,  669,  749, 1191,  374,\n",
       "           469,  882, 1192,  687,   32,  639, 1049,  194, 1116, 1124,  973,\n",
       "           503,  915,  999, 1194, 1098,  800,  579,  160,  680,  956, 1141,\n",
       "           162]),\n",
       "   array([ 821,  705, 1101,  877,  895,  913, 1210,  152, 1001, 1156,  509,\n",
       "           111,  226, 1008,  851,  103,  421,  419,  967,  624,  586, 1111,\n",
       "           919,  672,  119,   53,  151,  403, 1200,  207, 1145,  658, 1107,\n",
       "           232,    8,  159,   36,  452,  651,  253,  303,  896, 1186,  880,\n",
       "           571, 1011,  623,  345, 1041, 1036,  262,  610,  297,  989,  414,\n",
       "           150,  472,  640, 1201, 1140,  550,  928,  488, 1091,  146,  402,\n",
       "           954, 1135,  659,  463,  186,  608,  143,  751,  981,  197,  883,\n",
       "           279,  293, 1099,  400,  122,  202,  835,  246, 1150,  384,  854,\n",
       "           219,  641,    1,  112,  698,  951, 1089,  441,  663, 1106,  317,\n",
       "           648,  709,  972,  627,  632, 1182, 1117,  795,  645, 1012,  556,\n",
       "           681,  577,  524, 1059,  540,  748, 1120,  484,   95, 1020,  563,\n",
       "           742,  863,  891, 1038,  206,  392,  794,  870,  397,  766, 1110,\n",
       "          1028,  642,  612,  960,  725,  683,   98,  804,  406,  502, 1071,\n",
       "          1056,  929,  779,  200,  134, 1051,   40, 1017,  230,  378,  288,\n",
       "           418,  391,  592, 1086,  647,  520,   64,   14, 1064,  492,  379,\n",
       "           187,  763,  216,  791, 1076,  878,  337,  719,  295, 1016,  455,\n",
       "           815,  269,  995,  201,  161,  729,  401,  702, 1129,  565, 1021,\n",
       "          1025, 1104,  205,   34,  775,  508, 1195,   91,  897,  564,  776,\n",
       "           241,   13,  315,  600,  387,  166,  840,   20,  646, 1154,  831,\n",
       "           562, 1181,  686,  957,  189,  975,  699,  510, 1082,  474,  856,\n",
       "           747,  252,   21,  459, 1184,  276,  955,  385,  805,  343,  769,\n",
       "           130,  871, 1123,   87,  330,  466,  121, 1044, 1095, 1130,  860,\n",
       "          1126])))]"
      ]
     },
     "execution_count": 15,
     "metadata": {},
     "output_type": "execute_result"
    }
   ],
   "source": [
    "# Creating the pytorch dataset for training:\n",
    "dlc.create_training_dataset(\n",
    "    config_path,  \n",
    "    trainIndices=[train_indicies], \n",
    "    testIndices=[test_indicies], \n",
    "    num_shuffles=1,\n",
    "    net_type=\"resnet_50\",\n",
    ")"
   ]
  }
 ],
 "metadata": {
  "kernelspec": {
   "display_name": "DEEPLABCUT",
   "language": "python",
   "name": "python3"
  },
  "language_info": {
   "codemirror_mode": {
    "name": "ipython",
    "version": 3
   },
   "file_extension": ".py",
   "mimetype": "text/x-python",
   "name": "python",
   "nbconvert_exporter": "python",
   "pygments_lexer": "ipython3",
   "version": "3.10.16"
  }
 },
 "nbformat": 4,
 "nbformat_minor": 2
}
