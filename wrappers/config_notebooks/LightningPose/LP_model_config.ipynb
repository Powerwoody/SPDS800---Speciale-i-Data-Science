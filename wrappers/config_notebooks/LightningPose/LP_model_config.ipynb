{
 "cells": [
  {
   "cell_type": "markdown",
   "metadata": {},
   "source": [
    "# Lightning Fully supervised"
   ]
  },
  {
   "cell_type": "markdown",
   "metadata": {},
   "source": [
    "## Imports:"
   ]
  },
  {
   "cell_type": "code",
   "execution_count": 7,
   "metadata": {},
   "outputs": [],
   "source": [
    "from wrapper_lightning import * \n",
    "from omegaconf import OmegaConf"
   ]
  },
  {
   "cell_type": "markdown",
   "metadata": {},
   "source": [
    "## Config Buttom-up: (DEFAULT)"
   ]
  },
  {
   "cell_type": "markdown",
   "metadata": {},
   "source": [
    "### Creating LP project from .h5 files:"
   ]
  },
  {
   "cell_type": "code",
   "execution_count": 8,
   "metadata": {},
   "outputs": [
    {
     "name": "stdout",
     "output_type": "stream",
     "text": [
      "Building Lightning Pose project...\n",
      "Total frames: 1566\n",
      "Frames marked for removal: 354\n",
      "Frames kept: 1212\n",
      "New Annotations shape: (1212, 20, 2)\n",
      "New Images shape: (1212, 1024, 1024, 1)\n",
      "Writing frames to LP project...\n"
     ]
    },
    {
     "name": "stderr",
     "output_type": "stream",
     "text": [
      "1212it [00:09, 126.26it/s]\n"
     ]
    },
    {
     "name": "stdout",
     "output_type": "stream",
     "text": [
      "Creating the labeled-data.csv for the DLC project\n"
     ]
    },
    {
     "name": "stderr",
     "output_type": "stream",
     "text": [
      "1212it [00:00, 51861.30it/s]"
     ]
    },
    {
     "name": "stdout",
     "output_type": "stream",
     "text": [
      "LP project is ready at /Users/marcusschou/Desktop/SDU/data_science/kurser_4/Speciale_Data_Science/Lightning/projects\n"
     ]
    },
    {
     "name": "stderr",
     "output_type": "stream",
     "text": [
      "\n"
     ]
    }
   ],
   "source": [
    "MODEL_NAME = \"head_annotation_data_nat_updated_v2_run1_default_buttom_up_model_resnet_backbone\"\n",
    "\n",
    "lp_wrapper = LightniningPoseWrapper(\n",
    "    output_dir=\"/Users/marcusschou/Desktop/SDU/data_science/kurser_4/Speciale_Data_Science/Lightning/projects\"\n",
    ")\n",
    "\n",
    "lp_wrapper.h5_to_lp_project(\n",
    "    \"/Users/marcusschou/Desktop/SDU/data_science/kurser_4/Speciale_Data_Science/data/h5_files/head_annotation_data_nat_updated_v2.h5\",\n",
    "    \"/Users/marcusschou/Desktop/SDU/data_science/kurser_4/Speciale_Data_Science/data/skeletons/natskeleton_noposs.csv\",\n",
    "    MODEL_NAME,\n",
    "    \"/Users/marcusschou/Desktop/SDU/data_science/kurser_4/Speciale_Data_Science/data/videos/head_annotation_data_nat_updated_v2.mp4\",\n",
    "    \"/Users/marcusschou/Desktop/SDU/data_science/kurser_4/Speciale_Data_Science/Lightning/config_default.yaml\"\n",
    ")"
   ]
  },
  {
   "cell_type": "markdown",
   "metadata": {},
   "source": [
    "### Config model:"
   ]
  },
  {
   "cell_type": "code",
   "execution_count": 10,
   "metadata": {},
   "outputs": [],
   "source": [
    "project_config_path = \"/Users/marcusschou/Desktop/SDU/data_science/kurser_4/Speciale_Data_Science/Lightning/projects/head_annotation_data_nat_updated_v2_run1_default_buttom_up_model_resnet_backbone-2025-04-08/head_annotation_data_nat_updated_v2_run1_default_buttom_up_model_resnet_backbone-2025-04-08.yaml\"\n",
    "\n",
    "cfg = OmegaConf.load(project_config_path)\n",
    "\n",
    "# Training config:\n",
    "cfg.training.train_batch_size = 2\n",
    "cfg.training.min_epochs = 50\n",
    "cfg.training.max_epochs = 400\n",
    "cfg.training.early_stopping = True\n",
    "cfg.training.train_prob = 0.8\n",
    "cfg.training.val_prob = 0.2\n",
    "cfg.training.test_prob = 0\n",
    "cfg.training.log_every_n_steps = 1\n",
    "cfg.training.check_val_every_n_epoch = 5\n",
    "\n",
    "# Custom img aug with \n",
    "cfg.training.imgaug = {\n",
    "    \"Affine\": {\n",
    "        \"p\": 0.5,\n",
    "        \"kwargs\": {\n",
    "            \"rotate\": [-15, 15],\n",
    "            \"scale\": [0.8, 1.2]\n",
    "        }\n",
    "    },\n",
    "    \"Fliplr\": {\n",
    "        \"p\": 0.5\n",
    "    }\n",
    "}\n",
    "\n",
    "# Model config:\n",
    "cfg.model.model_name = MODEL_NAME\n",
    "\n",
    "OmegaConf.save(cfg, project_config_path)"
   ]
  },
  {
   "cell_type": "markdown",
   "metadata": {},
   "source": [
    "## Config CONTEXT NETWORK:"
   ]
  },
  {
   "cell_type": "code",
   "execution_count": 11,
   "metadata": {},
   "outputs": [
    {
     "name": "stdout",
     "output_type": "stream",
     "text": [
      "Building Lightning Pose project...\n",
      "Total frames: 1566\n",
      "Frames marked for removal: 354\n",
      "Frames kept: 1212\n",
      "New Annotations shape: (1212, 20, 2)\n",
      "New Images shape: (1212, 1024, 1024, 1)\n",
      "Writing frames to LP project...\n"
     ]
    },
    {
     "name": "stderr",
     "output_type": "stream",
     "text": [
      "1212it [00:10, 112.63it/s]\n"
     ]
    },
    {
     "name": "stdout",
     "output_type": "stream",
     "text": [
      "Creating the labeled-data.csv for the DLC project\n"
     ]
    },
    {
     "name": "stderr",
     "output_type": "stream",
     "text": [
      "1212it [00:00, 38923.57it/s]\n"
     ]
    },
    {
     "name": "stdout",
     "output_type": "stream",
     "text": [
      "LP project is ready at /Users/marcusschou/Desktop/SDU/data_science/kurser_4/Speciale_Data_Science/Lightning/projects\n"
     ]
    }
   ],
   "source": [
    "MODEL_NAME = \"head_annotation_data_nat_updated_v2_run1_context_model_resnet_backbone\"\n",
    "\n",
    "lp_wrapper = LightniningPoseWrapper(\n",
    "    output_dir=\"/Users/marcusschou/Desktop/SDU/data_science/kurser_4/Speciale_Data_Science/Lightning/projects\"\n",
    ")\n",
    "\n",
    "lp_wrapper.h5_to_lp_project(\n",
    "    \"/Users/marcusschou/Desktop/SDU/data_science/kurser_4/Speciale_Data_Science/data/h5_files/head_annotation_data_nat_updated_v2.h5\",\n",
    "    \"/Users/marcusschou/Desktop/SDU/data_science/kurser_4/Speciale_Data_Science/data/skeletons/natskeleton_noposs.csv\",\n",
    "    MODEL_NAME,\n",
    "    \"/Users/marcusschou/Desktop/SDU/data_science/kurser_4/Speciale_Data_Science/data/videos/head_annotation_data_nat_updated_v2.mp4\",\n",
    "    \"/Users/marcusschou/Desktop/SDU/data_science/kurser_4/Speciale_Data_Science/Lightning/config_default.yaml\"\n",
    ")"
   ]
  },
  {
   "cell_type": "code",
   "execution_count": 13,
   "metadata": {},
   "outputs": [],
   "source": [
    "project_config_path = \"/Users/marcusschou/Desktop/SDU/data_science/kurser_4/Speciale_Data_Science/Lightning/projects/head_annotation_data_nat_updated_v2_run1_context_model_resnet_backbone-2025-04-08/head_annotation_data_nat_updated_v2_run1_context_model_resnet_backbone-2025-04-08.yaml\"\n",
    "\n",
    "cfg = OmegaConf.load(project_config_path)\n",
    "\n",
    "# Training config:\n",
    "cfg.training.train_batch_size = 2\n",
    "cfg.training.min_epochs = 50\n",
    "cfg.training.max_epochs = 400\n",
    "cfg.training.early_stopping = True\n",
    "cfg.training.train_prob = 0.8\n",
    "cfg.training.val_prob = 0.2\n",
    "cfg.training.test_prob = 0\n",
    "cfg.training.log_every_n_steps = 1\n",
    "cfg.training.check_val_every_n_epoch = 5\n",
    "\n",
    "# Custom img aug with \n",
    "cfg.training.imgaug = {\n",
    "    \"Affine\": {\n",
    "        \"p\": 0.5,\n",
    "        \"kwargs\": {\n",
    "            \"rotate\": [-15, 15],\n",
    "            \"scale\": [0.8, 1.2]\n",
    "        }\n",
    "    },\n",
    "    \"Fliplr\": {\n",
    "        \"p\": 0.5\n",
    "    }\n",
    "}\n",
    "\n",
    "# Model config:\n",
    "cfg.model.model_name = MODEL_NAME\n",
    "cfg.model.model_type = \"heatmap_mhcrnn\"\n",
    "\n",
    "OmegaConf.save(cfg, project_config_path)"
   ]
  },
  {
   "cell_type": "markdown",
   "metadata": {},
   "source": [
    "- **Train CLI command:** litpose train config_default.yaml (litpose train config_default.yaml --output_dir outputs/lp_test_1)\n",
    "- **Inference CLI command:** litpose predict <model_dir> <video_files_dir>"
   ]
  }
 ],
 "metadata": {
  "kernelspec": {
   "display_name": "Lightning",
   "language": "python",
   "name": "python3"
  },
  "language_info": {
   "codemirror_mode": {
    "name": "ipython",
    "version": 3
   },
   "file_extension": ".py",
   "mimetype": "text/x-python",
   "name": "python",
   "nbconvert_exporter": "python",
   "pygments_lexer": "ipython3",
   "version": "3.10.16"
  }
 },
 "nbformat": 4,
 "nbformat_minor": 2
}
