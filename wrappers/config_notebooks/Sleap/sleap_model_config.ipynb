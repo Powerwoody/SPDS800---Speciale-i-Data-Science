{
 "cells": [
  {
   "cell_type": "markdown",
   "metadata": {},
   "source": [
    "# SLEAP Notebook:"
   ]
  },
  {
   "cell_type": "markdown",
   "metadata": {},
   "source": [
    "## Imports:"
   ]
  },
  {
   "cell_type": "code",
   "execution_count": 12,
   "metadata": {},
   "outputs": [],
   "source": [
    "from sleap.nn.config import *\n",
    "from wrapper_sleap import *"
   ]
  },
  {
   "cell_type": "markdown",
   "metadata": {},
   "source": [
    "## Converting .h5 files to pkg.slp files:"
   ]
  },
  {
   "cell_type": "code",
   "execution_count": 13,
   "metadata": {},
   "outputs": [],
   "source": [
    "slp_wrapper = SleapWrapper(\n",
    "    \"/Users/marcusschou/Desktop/SDU/data_science/kurser_4/Speciale_Data_Science/SLEAP/data\"\n",
    ")"
   ]
  },
  {
   "cell_type": "code",
   "execution_count": 4,
   "metadata": {},
   "outputs": [
    {
     "name": "stdout",
     "output_type": "stream",
     "text": [
      "Total frames: 1566\n",
      "Frames marked for removal: 354\n",
      "Frames kept: 1212\n",
      "New Annotations shape: (1212, 20, 2)\n",
      "New Images shape: (1212, 1024, 1024, 1)\n"
     ]
    },
    {
     "name": "stderr",
     "output_type": "stream",
     "text": [
      "100%|██████████| 1212/1212 [00:03<00:00, 403.27it/s]\n"
     ]
    },
    {
     "name": "stdout",
     "output_type": "stream",
     "text": [
      "Video saved to: /Users/marcusschou/Desktop/SDU/data_science/kurser_4/Speciale_Data_Science/SLEAP/data/head_annotation_data_nat_updated_v2.mp4\n"
     ]
    },
    {
     "name": "stderr",
     "output_type": "stream",
     "text": [
      "100%|██████████| 1212/1212 [00:00<00:00, 44987.49it/s]\n"
     ]
    },
    {
     "name": "stdout",
     "output_type": "stream",
     "text": [
      "SLEAP labels file saved to: /Users/marcusschou/Desktop/SDU/data_science/kurser_4/Speciale_Data_Science/SLEAP/data/head_annotation_data_nat_updated_v2.slp\n"
     ]
    }
   ],
   "source": [
    "slp_wrapper.convert_to_slp(\n",
    "    \"/Users/marcusschou/Desktop/SDU/data_science/kurser_4/Speciale_Data_Science/data/h5_files/head_annotation_data_nat_updated_v2.h5\",\n",
    "    \"/Users/marcusschou/Desktop/SDU/data_science/kurser_4/Speciale_Data_Science/data/skeletons/natskeleton_noposs.csv\"\n",
    ")"
   ]
  },
  {
   "cell_type": "markdown",
   "metadata": {},
   "source": [
    "## Model config:"
   ]
  },
  {
   "cell_type": "markdown",
   "metadata": {},
   "source": [
    "### Generating split indicies:"
   ]
  },
  {
   "cell_type": "code",
   "execution_count": 14,
   "metadata": {},
   "outputs": [],
   "source": [
    "slp_filepath = \"/Users/marcusschou/Desktop/SDU/data_science/kurser_4/Speciale_Data_Science/SLEAP/data/head_annotation_data_nat_updated_v2.slp\"\n",
    "\n",
    "train_indicies, test_indicies = slp_wrapper.split_indicies(slp_filepath, train_split_percentage=0.8, test_split_percentage=0.2)"
   ]
  },
  {
   "cell_type": "code",
   "execution_count": 42,
   "metadata": {},
   "outputs": [],
   "source": [
    "RUN_NAME = \"head_annotation_data_nat_updated_v2_run1_baseline\""
   ]
  },
  {
   "cell_type": "code",
   "execution_count": 43,
   "metadata": {},
   "outputs": [],
   "source": [
    "BATCH_SIZE = 2\n",
    "EPOCHS = 400"
   ]
  },
  {
   "cell_type": "markdown",
   "metadata": {},
   "source": [
    "## Model configuration: (Single instance)"
   ]
  },
  {
   "cell_type": "code",
   "execution_count": 44,
   "metadata": {},
   "outputs": [],
   "source": [
    "MODEL_NAME = \"head_annotation_data_nat_updated_v2_config_baseline_medium_rf_single_run1_UNET.json\"\n",
    "\n",
    "train_config = TrainingJobConfig()\n",
    "\n",
    "# Data config:\n",
    "train_config.data = DataConfig(\n",
    "    labels=LabelsConfig(\n",
    "        split_by_inds=True,\n",
    "        training_inds=train_indicies,\n",
    "        validation_inds=test_indicies,\n",
    "    ),\n",
    "    preprocessing=PreprocessingConfig(\n",
    "        input_scaling=1.0 \n",
    "    ),\n",
    "    instance_cropping=InstanceCroppingConfig()\n",
    ")\n",
    "\n",
    "# Model config\n",
    "train_config.model = ModelConfig(\n",
    "    backbone=BackboneConfig(\n",
    "       unet=UNetConfig(\n",
    "            max_stride=16,\n",
    "            filters=24,\n",
    "            output_stride=2,\n",
    "            up_interpolate=True,\n",
    "        )\n",
    "    ),\n",
    "    heads=HeadsConfig(\n",
    "        single_instance=SingleInstanceConfmapsHeadConfig(\n",
    "            sigma=2.5,\n",
    "            output_stride=2\n",
    "        )\n",
    "    ) \n",
    ")\n",
    "\n",
    "# Optimization config:\n",
    "train_config.optimization = OptimizationConfig(\n",
    "    epochs=EPOCHS,\n",
    "    batch_size=BATCH_SIZE,\n",
    "    augmentation_config=AugmentationConfig(\n",
    "        rotate=True,\n",
    "        rotation_max_angle=15.0,\n",
    "        rotation_min_angle=-15.0,\n",
    "        scale=True,\n",
    "        scale_max=1.2,\n",
    "        scale_min=0.8,\n",
    "        random_flip=True,\n",
    "        flip_horizontal=True,\n",
    "    ),\n",
    "    hard_keypoint_mining=HardKeypointMiningConfig(),\n",
    "    learning_rate_schedule=LearningRateScheduleConfig(\n",
    "        plateau_min_delta=1e-06,\n",
    "        min_learning_rate=1e-08\n",
    "    ),\n",
    "    early_stopping=EarlyStoppingConfig(\n",
    "        plateau_min_delta=1e-08,\n",
    "        plateau_patience=10\n",
    "    )\n",
    ")\n",
    "\n",
    "# Outputs config:\n",
    "train_config.outputs = OutputsConfig(\n",
    "    checkpointing=CheckpointingConfig(\n",
    "        best_model=True\n",
    "    ),\n",
    "    run_name=RUN_NAME,\n",
    "    run_name_suffix=\".single_instance\",\n",
    "    runs_folder=\"models\",\n",
    "    keep_viz_images=True,\n",
    "    tensorboard=TensorBoardConfig(\n",
    "        write_logs=True\n",
    "    )\n",
    ")\n",
    "\n",
    "train_config.save_json(MODEL_NAME)"
   ]
  },
  {
   "cell_type": "markdown",
   "metadata": {},
   "source": [
    "## Model configuration: (top-down)"
   ]
  },
  {
   "cell_type": "markdown",
   "metadata": {},
   "source": [
    "### Centroid config:"
   ]
  },
  {
   "cell_type": "code",
   "execution_count": 22,
   "metadata": {},
   "outputs": [],
   "source": [
    "MODEL_NAME = \"head_annotation_data_nat_updated_v2_basline_centroid_run1_UNET.json\"\n",
    "ANCHOR_PART = \"Nose\"\n",
    "\n",
    "train_config = TrainingJobConfig()\n",
    "\n",
    "# Data config:\n",
    "train_config.data = DataConfig(\n",
    "    labels=LabelsConfig(\n",
    "        validation_fraction=0.1\n",
    "    ),\n",
    "    preprocessing=PreprocessingConfig(\n",
    "        input_scaling=0.5 \n",
    "    ),\n",
    "    instance_cropping=InstanceCroppingConfig(\n",
    "        center_on_part=ANCHOR_PART\n",
    "    )\n",
    ")\n",
    "\n",
    "# Model config\n",
    "train_config.model = ModelConfig(\n",
    "    backbone=BackboneConfig(\n",
    "       unet=UNetConfig(\n",
    "            max_stride=16,\n",
    "            filters=24,\n",
    "            output_stride=2,\n",
    "            up_interpolate=True\n",
    "        )\n",
    "    ),\n",
    "    heads=HeadsConfig(\n",
    "        centroid=CentroidsHeadConfig(\n",
    "            sigma=2.5,\n",
    "            output_stride=2,\n",
    "            anchor_part=ANCHOR_PART\n",
    "        )\n",
    "    ) \n",
    ")\n",
    "\n",
    "# Optimization config:\n",
    "train_config.optimization = OptimizationConfig(\n",
    "    epochs=EPOCHS,\n",
    "    batch_size=BATCH_SIZE,\n",
    "    augmentation_config=AugmentationConfig(),\n",
    "    hard_keypoint_mining=HardKeypointMiningConfig(),\n",
    "    learning_rate_schedule=LearningRateScheduleConfig(\n",
    "        plateau_min_delta=1e-06,\n",
    "        min_learning_rate=1e-08\n",
    "    ),\n",
    "    early_stopping=EarlyStoppingConfig(\n",
    "        plateau_min_delta=1e-08,\n",
    "        plateau_patience=10\n",
    "    )\n",
    ")\n",
    "\n",
    "# Outputs config:\n",
    "train_config.outputs = OutputsConfig(\n",
    "    checkpointing=CheckpointingConfig(\n",
    "        best_model=True\n",
    "    ),\n",
    "    run_name=RUN_NAME,\n",
    "    run_name_suffix=\".centroid\",\n",
    "    runs_folder=\"models\",\n",
    "    keep_viz_images=True,\n",
    "    tensorboard=TensorBoardConfig(\n",
    "        write_logs=True\n",
    "    )\n",
    ")\n",
    "\n",
    "train_config.save_json(MODEL_NAME)"
   ]
  },
  {
   "cell_type": "markdown",
   "metadata": {},
   "source": [
    "### Centered instance config:"
   ]
  },
  {
   "cell_type": "code",
   "execution_count": 40,
   "metadata": {},
   "outputs": [],
   "source": [
    "MODEL_NAME = \"head_annotation_data_nat_updated_v2_basline_centered_instance_run1_UNET.json\"\n",
    "\n",
    "train_config = TrainingJobConfig()\n",
    "\n",
    "# Data config:\n",
    "train_config.data = DataConfig(\n",
    "    labels=LabelsConfig(\n",
    "        split_by_inds=True,\n",
    "        training_inds=train_indicies,\n",
    "        validation_inds=test_indicies,\n",
    "    ),\n",
    "    preprocessing=PreprocessingConfig(\n",
    "        input_scaling=1.0 \n",
    "    ),\n",
    "    instance_cropping=InstanceCroppingConfig(\n",
    "        center_on_part=ANCHOR_PART\n",
    "    )\n",
    ")\n",
    "\n",
    "# Model config\n",
    "train_config.model = ModelConfig(\n",
    "    backbone=BackboneConfig(\n",
    "       unet=UNetConfig(\n",
    "            max_stride=16,\n",
    "            filters=24,\n",
    "            output_stride=4,\n",
    "            up_interpolate=True\n",
    "        )\n",
    "    ),\n",
    "    heads=HeadsConfig(\n",
    "        centered_instance=CenteredInstanceConfmapsHeadConfig(\n",
    "            sigma=2.5,\n",
    "            output_stride=4,\n",
    "            anchor_part=ANCHOR_PART  \n",
    "        )\n",
    "    ) \n",
    ")\n",
    "\n",
    "# Optimization config:\n",
    "train_config.optimization = OptimizationConfig(\n",
    "    epochs=EPOCHS,\n",
    "    batch_size=BATCH_SIZE,\n",
    "    augmentation_config=AugmentationConfig(\n",
    "        rotate=True,\n",
    "        rotation_max_angle=15.0,\n",
    "        rotation_min_angle=-15.0,\n",
    "        scale=True,\n",
    "        scale_max=1.2,\n",
    "        scale_min=0.8,\n",
    "        random_flip=True,\n",
    "        flip_horizontal=True,\n",
    "    ),\n",
    "    hard_keypoint_mining=HardKeypointMiningConfig(),\n",
    "    learning_rate_schedule=LearningRateScheduleConfig(\n",
    "        plateau_min_delta=1e-06,\n",
    "        min_learning_rate=1e-08\n",
    "    ),\n",
    "    early_stopping=EarlyStoppingConfig(\n",
    "        plateau_min_delta=1e-08,\n",
    "        plateau_patience=10\n",
    "    )\n",
    ")\n",
    "\n",
    "# Outputs config:\n",
    "train_config.outputs = OutputsConfig(\n",
    "    checkpointing=CheckpointingConfig(\n",
    "        best_model=True\n",
    "    ),\n",
    "    run_name=RUN_NAME,\n",
    "    run_name_suffix=\".centered_instance\",\n",
    "    runs_folder=\"models\",\n",
    "    keep_viz_images=True,\n",
    "    tensorboard=TensorBoardConfig(\n",
    "        write_logs=True\n",
    "    )\n",
    ")\n",
    "\n",
    "train_config.save_json(MODEL_NAME)"
   ]
  },
  {
   "cell_type": "markdown",
   "metadata": {},
   "source": [
    "### pretrained backbone:"
   ]
  },
  {
   "cell_type": "code",
   "execution_count": 45,
   "metadata": {},
   "outputs": [],
   "source": [
    "MODEL_NAME = \"head_annotation_data_nat_updated_v2_config_baseline_medium_rf_single_pretrained_backbone_run1_UNET.json\"\n",
    "\n",
    "train_config = TrainingJobConfig()\n",
    "\n",
    "# Data config:\n",
    "train_config.data = DataConfig(\n",
    "    labels=LabelsConfig(\n",
    "        split_by_inds=True,\n",
    "        training_inds=train_indicies,\n",
    "        validation_inds=test_indicies,\n",
    "    ),\n",
    "    preprocessing=PreprocessingConfig(\n",
    "        input_scaling=1.0 \n",
    "    ),\n",
    "    instance_cropping=InstanceCroppingConfig()\n",
    ")\n",
    "\n",
    "# Model config\n",
    "train_config.model = ModelConfig(\n",
    "    backbone=BackboneConfig(\n",
    "        pretrained_encoder=PretrainedEncoderConfig(\n",
    "            encoder = \"resnet50\"\n",
    "        )\n",
    "    ),\n",
    "    heads=HeadsConfig(\n",
    "        single_instance=SingleInstanceConfmapsHeadConfig(\n",
    "            sigma=2.5,\n",
    "            output_stride=2\n",
    "        )\n",
    "    ) \n",
    ")\n",
    "\n",
    "# Optimization config:\n",
    "train_config.optimization = OptimizationConfig(\n",
    "    epochs=EPOCHS,\n",
    "    batch_size=BATCH_SIZE,\n",
    "    augmentation_config=AugmentationConfig(\n",
    "        rotate=True,\n",
    "        rotation_max_angle=15.0,\n",
    "        rotation_min_angle=-15.0,\n",
    "        scale=True,\n",
    "        scale_max=1.2,\n",
    "        scale_min=0.8,\n",
    "        random_flip=True,\n",
    "        flip_horizontal=True,\n",
    "    ),\n",
    "    hard_keypoint_mining=HardKeypointMiningConfig(),\n",
    "    learning_rate_schedule=LearningRateScheduleConfig(\n",
    "        plateau_min_delta=1e-06,\n",
    "        min_learning_rate=1e-08\n",
    "    ),\n",
    "    early_stopping=EarlyStoppingConfig(\n",
    "        plateau_min_delta=1e-08,\n",
    "        plateau_patience=10\n",
    "    )\n",
    ")\n",
    "\n",
    "# Outputs config:\n",
    "train_config.outputs = OutputsConfig(\n",
    "    checkpointing=CheckpointingConfig(\n",
    "        best_model=True\n",
    "    ),\n",
    "    run_name=RUN_NAME,\n",
    "    run_name_suffix=\".single_instance\",\n",
    "    runs_folder=\"models\",\n",
    "    keep_viz_images=True,\n",
    "    tensorboard=TensorBoardConfig(\n",
    "        write_logs=True\n",
    "    )\n",
    ")\n",
    "\n",
    "train_config.save_json(MODEL_NAME)"
   ]
  },
  {
   "cell_type": "markdown",
   "metadata": {},
   "source": [
    "## Training:"
   ]
  },
  {
   "cell_type": "markdown",
   "metadata": {},
   "source": [
    "1. **CLI Training:** config.json labels.slp\n",
    "3. **CLI Inference:** sleap-track -m \"models/my_model\" --tracking.tracker simple -o \"output_predictions.slp\" \"input_video.mp4\"\n",
    "4. **CLI Inference top-down:** sleap-track -m \"models/centroid\" -m \"models/centered_instance\" -o \"output_predictions.slp\" \"input_video.mp4\""
   ]
  },
  {
   "cell_type": "markdown",
   "metadata": {},
   "source": [
    "sleep-train centroid_json colab_.pkg.slp && sleep-train centered_instance_json colab_.pkg.slp"
   ]
  }
 ],
 "metadata": {
  "kernelspec": {
   "display_name": "sleap",
   "language": "python",
   "name": "python3"
  },
  "language_info": {
   "codemirror_mode": {
    "name": "ipython",
    "version": 3
   },
   "file_extension": ".py",
   "mimetype": "text/x-python",
   "name": "python",
   "nbconvert_exporter": "python",
   "pygments_lexer": "ipython3",
   "version": "3.9.21"
  }
 },
 "nbformat": 4,
 "nbformat_minor": 2
}
